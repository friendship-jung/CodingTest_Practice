{
  "nbformat": 4,
  "nbformat_minor": 0,
  "metadata": {
    "colab": {
      "provenance": [],
      "authorship_tag": "ABX9TyO9ruL4OR+O+BTMDTD6hA5y",
      "include_colab_link": true
    },
    "kernelspec": {
      "name": "python3",
      "display_name": "Python 3"
    },
    "language_info": {
      "name": "python"
    }
  },
  "cells": [
    {
      "cell_type": "markdown",
      "metadata": {
        "id": "view-in-github",
        "colab_type": "text"
      },
      "source": [
        "<a href=\"https://colab.research.google.com/github/friendship-jung/CodingTest_Practice/blob/main/Untitled6.ipynb\" target=\"_parent\"><img src=\"https://colab.research.google.com/assets/colab-badge.svg\" alt=\"Open In Colab\"/></a>"
      ]
    },
    {
      "cell_type": "code",
      "execution_count": null,
      "metadata": {
        "colab": {
          "base_uri": "https://localhost:8080/"
        },
        "id": "2EepmjUQOIK7",
        "outputId": "9fe8b4d0-6445-41a6-8b73-a19ed700f26e"
      },
      "outputs": [
        {
          "output_type": "stream",
          "name": "stdout",
          "text": [
            "Mounted at /content/drive\n"
          ]
        }
      ],
      "source": [
        "from google.colab import drive\n",
        "drive.mount('/content/drive')"
      ]
    },
    {
      "cell_type": "code",
      "source": [
        "cd \"/content/drive/MyDrive\""
      ],
      "metadata": {
        "colab": {
          "base_uri": "https://localhost:8080/"
        },
        "id": "Ux7aiqGPOkyO",
        "outputId": "48b87ab9-4f07-4fbb-e66e-ef1bd5ce74f2"
      },
      "execution_count": null,
      "outputs": [
        {
          "output_type": "stream",
          "name": "stdout",
          "text": [
            "/content/drive/MyDrive\n"
          ]
        }
      ]
    },
    {
      "cell_type": "code",
      "source": [
        "!git clone https://github.com/friendship-jung/CodingTest_Practice.git"
      ],
      "metadata": {
        "colab": {
          "base_uri": "https://localhost:8080/"
        },
        "id": "V2d1UHrbOuiB",
        "outputId": "f039c496-a742-448e-fad1-ea05133244ee"
      },
      "execution_count": null,
      "outputs": [
        {
          "output_type": "stream",
          "name": "stdout",
          "text": [
            "Cloning into 'CodingTest_Practice'...\n",
            "fatal: could not read Username for 'https://github.com': No such device or address\n"
          ]
        }
      ]
    },
    {
      "cell_type": "markdown",
      "source": [
        "# 01. 문자열 묶기\n",
        "\n",
        "문자열 배열 strArr이 주어집니다. strArr의 원소들을 길이가 같은 문자열들끼리 그룹으로 묶었을 때 가장 개수가 많은 그룹의 크기를 return 하는 solution 함수를 완성해 주세요."
      ],
      "metadata": {
        "id": "vfHgBIbWYAxg"
      }
    },
    {
      "cell_type": "code",
      "source": [
        "# 내가 구현한 잘못된 코드\n",
        "\n",
        "def solution(strArr):\n",
        "    answer = []\n",
        "    arr=[0]*30\n",
        "    result = 0\n",
        "    for i in strArr:\n",
        "        answer.append(len(i))\n",
        "    for j in answer:\n",
        "        arr[j]+=1\n",
        "    for x in range(len(arr)):\n",
        "        if arr[x]>=arr[result]:\n",
        "            result=x\n",
        "    return result\n",
        ""
      ],
      "metadata": {
        "id": "61j0JYo9SfiL"
      },
      "execution_count": null,
      "outputs": []
    },
    {
      "cell_type": "code",
      "source": [
        "# 제대로 구현한 코드\n",
        "def solution(strArr):\n",
        "    ans = [0] * 31\n",
        "    for s in strArr:\n",
        "        ans[len(s)] += 1\n",
        "    return max(ans)"
      ],
      "metadata": {
        "id": "x2y7gv2yYYGc"
      },
      "execution_count": null,
      "outputs": []
    }
  ]
}
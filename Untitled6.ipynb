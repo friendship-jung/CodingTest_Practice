{
  "nbformat": 4,
  "nbformat_minor": 0,
  "metadata": {
    "colab": {
      "provenance": [],
      "authorship_tag": "ABX9TyOiD9XLQPGlYNDa2rX17v9N",
      "include_colab_link": true
    },
    "kernelspec": {
      "name": "python3",
      "display_name": "Python 3"
    },
    "language_info": {
      "name": "python"
    }
  },
  "cells": [
    {
      "cell_type": "markdown",
      "metadata": {
        "id": "view-in-github",
        "colab_type": "text"
      },
      "source": [
        "<a href=\"https://colab.research.google.com/github/friendship-jung/CodingTest_Practice/blob/main/Untitled6.ipynb\" target=\"_parent\"><img src=\"https://colab.research.google.com/assets/colab-badge.svg\" alt=\"Open In Colab\"/></a>"
      ]
    },
    {
      "cell_type": "code",
      "execution_count": null,
      "metadata": {
        "colab": {
          "base_uri": "https://localhost:8080/"
        },
        "id": "2EepmjUQOIK7",
        "outputId": "9fe8b4d0-6445-41a6-8b73-a19ed700f26e"
      },
      "outputs": [
        {
          "output_type": "stream",
          "name": "stdout",
          "text": [
            "Mounted at /content/drive\n"
          ]
        }
      ],
      "source": [
        "from google.colab import drive\n",
        "drive.mount('/content/drive')"
      ]
    },
    {
      "cell_type": "code",
      "source": [
        "cd \"/content/drive/MyDrive\""
      ],
      "metadata": {
        "colab": {
          "base_uri": "https://localhost:8080/"
        },
        "id": "Ux7aiqGPOkyO",
        "outputId": "48b87ab9-4f07-4fbb-e66e-ef1bd5ce74f2"
      },
      "execution_count": null,
      "outputs": [
        {
          "output_type": "stream",
          "name": "stdout",
          "text": [
            "/content/drive/MyDrive\n"
          ]
        }
      ]
    },
    {
      "cell_type": "code",
      "source": [
        "!git clone https://github.com/friendship-jung/CodingTest_Practice.git"
      ],
      "metadata": {
        "colab": {
          "base_uri": "https://localhost:8080/"
        },
        "id": "V2d1UHrbOuiB",
        "outputId": "f039c496-a742-448e-fad1-ea05133244ee"
      },
      "execution_count": null,
      "outputs": [
        {
          "output_type": "stream",
          "name": "stdout",
          "text": [
            "Cloning into 'CodingTest_Practice'...\n",
            "fatal: could not read Username for 'https://github.com': No such device or address\n"
          ]
        }
      ]
    },
    {
      "cell_type": "markdown",
      "source": [
        "# 01. 문자열 묶기\n",
        "\n",
        "문자열 배열 strArr이 주어집니다. strArr의 원소들을 길이가 같은 문자열들끼리 그룹으로 묶었을 때 가장 개수가 많은 그룹의 크기를 return 하는 solution 함수를 완성해 주세요."
      ],
      "metadata": {
        "id": "vfHgBIbWYAxg"
      }
    },
    {
      "cell_type": "code",
      "source": [
        "# 내가 구현한 잘못된 코드\n",
        "\n",
        "def solution(strArr):\n",
        "    answer = []\n",
        "    arr=[0]*30\n",
        "    result = 0\n",
        "    for i in strArr:\n",
        "        answer.append(len(i))\n",
        "    for j in answer:\n",
        "        arr[j]+=1\n",
        "    for x in range(len(arr)):\n",
        "        if arr[x]>=arr[result]:\n",
        "            result=x\n",
        "    return result\n",
        ""
      ],
      "metadata": {
        "id": "61j0JYo9SfiL"
      },
      "execution_count": null,
      "outputs": []
    },
    {
      "cell_type": "code",
      "source": [
        "# 제대로 구현한 코드\n",
        "def solution(strArr):\n",
        "    ans = [0] * 31\n",
        "    for s in strArr:\n",
        "        ans[len(s)] += 1\n",
        "    return max(ans)"
      ],
      "metadata": {
        "id": "x2y7gv2yYYGc"
      },
      "execution_count": null,
      "outputs": []
    },
    {
      "cell_type": "markdown",
      "source": [
        "# 02. 세 개의 구분자\n",
        "\n",
        "임의의 문자열이 주어졌을 때 문자 \"a\", \"b\", \"c\"를 구분자로 사용해 문자열을 나누고자 합니다.\n",
        "\n",
        "예를 들어 주어진 문자열이 \"baconlettucetomato\"라면 나눠진 문자열 목록은 [\"onlettu\", \"etom\", \"to\"] 가 됩니다.\n",
        "\n",
        "문자열 myStr이 주어졌을 때 위 예시와 같이 \"a\", \"b\", \"c\"를 사용해 나눠진 문자열을 순서대로 저장한 배열을 return 하는 solution 함수를 완성해 주세요.\n",
        "\n",
        "단, 두 구분자 사이에 다른 문자가 없을 경우에는 아무것도 저장하지 않으며, return할 배열이 빈 배열이라면 [\"EMPTY\"]를 return 합니다."
      ],
      "metadata": {
        "id": "cUevVrt-d7Uo"
      }
    },
    {
      "cell_type": "code",
      "source": [
        "import re\n",
        "def solution(myStr):\n",
        "    result = re.split('[abc]', myStr)\n",
        "    result = [i.strip() for i in result if i.strip()]\n",
        "    if not result:\n",
        "        return [\"EMPTY\"]\n",
        "    return result"
      ],
      "metadata": {
        "id": "hD-d9vzZd6AY"
      },
      "execution_count": 4,
      "outputs": []
    },
    {
      "cell_type": "markdown",
      "source": [
        "# 03. 배열 만들기 06\n",
        "\n",
        "0과 1로만 이루어진 정수 배열 arr가 주어집니다. arr를 이용해 새로운 배열 stk을 만드려고 합니다.\n",
        "\n",
        "i의 초기값을 0으로 설정하고 i가 arr의 길이보다 작으면 다음을 반복합니다.\n",
        "\n",
        "만약 stk이 빈 배열이라면 arr[i]를 stk에 추가하고 i에 1을 더합니다.\n",
        "stk에 원소가 있고, stk의 마지막 원소가 arr[i]와 같으면 stk의 마지막 원소를 stk에서 제거하고 i에 1을 더합니다.\n",
        "stk에 원소가 있는데 stk의 마지막 원소가 arr[i]와 다르면 stk의 맨 마지막에 arr[i]를 추가하고 i에 1을 더합니다.\n",
        "위 작업을 마친 후 만들어진 stk을 return 하는 solution 함수를 완성해 주세요.\n",
        "\n",
        "단, 만약 빈 배열을 return 해야한다면 [-1]을 return 합니다."
      ],
      "metadata": {
        "id": "JYVdHfzmlyDs"
      }
    },
    {
      "cell_type": "code",
      "source": [
        "def solution(arr):\n",
        "    if not arr:  # arr가 비어 있는 경우 처리\n",
        "        return [-1]\n",
        "\n",
        "    stk = []  # stk 초기화\n",
        "    i = 0  # 인덱스 초기화\n",
        "\n",
        "    while i < len(arr):\n",
        "        if not stk:  # stk가 비어있으면\n",
        "            stk.append(arr[i])  # arr[i]를 stk에 추가\n",
        "        elif stk[-1] == arr[i]:  # stk의 마지막 원소가 arr[i]와 같으면\n",
        "            stk.pop()  # stk에서 마지막 원소 제거\n",
        "        else:  # 다르면\n",
        "            stk.append(arr[i])  # stk에 arr[i] 추가\n",
        "        i += 1  # 인덱스 증가\n",
        "\n",
        "    if not stk:  # 모든 작업 후 stk가 비어있다면\n",
        "        return [-1]\n",
        "    return stk\n"
      ],
      "metadata": {
        "id": "KvCNwY6JlxNh"
      },
      "execution_count": null,
      "outputs": []
    },
    {
      "cell_type": "markdown",
      "source": [
        "# 04. 왼쪽 오른쪽\n",
        "\n",
        "문자열 리스트 str_list에는 \"u\", \"d\", \"l\", \"r\" 네 개의 문자열이 여러 개 저장되어 있습니다. str_list에서 \"l\"과 \"r\" 중 먼저 나오는 문자열이 \"l\"이라면 해당 문자열을 기준으로 왼쪽에 있는 문자열들을 순서대로 담은 리스트를, 먼저 나오는 문자열이 \"r\"이라면 해당 문자열을 기준으로 오른쪽에 있는 문자열들을 순서대로 담은 리스트를 return하도록 solution 함수를 완성해주세요. \"l\"이나 \"r\"이 없다면 빈 리스트를 return합니다."
      ],
      "metadata": {
        "id": "lb9JKhJhrGGW"
      }
    },
    {
      "cell_type": "code",
      "source": [
        "# 내가 구현한  잘못된 코드\n",
        "\n",
        "def solution(str_list):\n",
        "    answer = []\n",
        "    for i in range(len(str_list)):\n",
        "        if str_list[i]=='l':\n",
        "            answer= str_list[0:i]\n",
        "            break\n",
        "        elif str_list[i]=='r':\n",
        "            answer= str_list[i+1:]\n",
        "            break\n",
        "        else:\n",
        "            return answer\n",
        "    return answer"
      ],
      "metadata": {
        "id": "qG1YKfSCrINh"
      },
      "execution_count": null,
      "outputs": []
    },
    {
      "cell_type": "code",
      "source": [
        "# 수정한 코드\n",
        "\n",
        "def solution(str_list):\n",
        "    answer = []\n",
        "    for i in range(len(str_list)):\n",
        "        if str_list[i] == 'l':\n",
        "            answer = str_list[:i]\n",
        "            return answer\n",
        "        elif str_list[i] == 'r':\n",
        "            answer = str_list[i+1:]\n",
        "            return answer\n",
        "\n",
        "    return answer\n"
      ],
      "metadata": {
        "id": "RVGkKEu6rPYV"
      },
      "execution_count": null,
      "outputs": []
    },
    {
      "cell_type": "markdown",
      "source": [
        "# 05. 배열 만들기 4\n",
        "\n",
        "정수 배열 arr가 주어집니다. arr를 이용해 새로운 배열 stk를 만드려고 합니다.\n",
        "\n",
        "변수 i를 만들어 초기값을 0으로 설정한 후 i가 arr의 길이보다 작으면 다음 작업을 반복합니다.\n",
        "\n",
        "만약 stk가 빈 배열이라면 arr[i]를 stk에 추가하고 i에 1을 더합니다.\n",
        "stk에 원소가 있고, stk의 마지막 원소가 arr[i]보다 작으면 arr[i]를 stk의 뒤에 추가하고 i에 1을 더합니다.\n",
        "stk에 원소가 있는데 stk의 마지막 원소가 arr[i]보다 크거나 같으면 stk의 마지막 원소를 stk에서 제거합니다.\n",
        "위 작업을 마친 후 만들어진 stk를 return 하는 solution 함수를 완성해 주세요."
      ],
      "metadata": {
        "id": "L1cwaTWN10Gk"
      }
    },
    {
      "cell_type": "code",
      "source": [
        "# 내가 구현한 잘못된 코드\n",
        "\n",
        "def solution(arr):\n",
        "    if not arr:\n",
        "        return []\n",
        "\n",
        "    stk = [arr[0]]\n",
        "    i = 1\n",
        "    while i < len(arr):\n",
        "        if stk and stk[-1] < arr[i]:\n",
        "            stk.append(arr[i])\n",
        "        elif stk and stk[-1] >= arr[i]:\n",
        "            stk.pop()\n",
        "        i += 1\n",
        "    return stk"
      ],
      "metadata": {
        "id": "D02IH-TV12Wn"
      },
      "execution_count": null,
      "outputs": []
    },
    {
      "cell_type": "code",
      "source": [
        "# 제대로 구현한 코드\n",
        "\n",
        "def solution(arr):\n",
        "    stk = []\n",
        "    for i in range(len(arr)):\n",
        "        while stk and stk[-1] >= arr[i]:\n",
        "            stk.pop()\n",
        "        stk.append(arr[i])\n",
        "    return stk"
      ],
      "metadata": {
        "id": "QkLEyvEW164b"
      },
      "execution_count": null,
      "outputs": []
    },
    {
      "cell_type": "markdown",
      "source": [
        "# 06. 무작위로 K개의 수 뽑기\n",
        "\n",
        "문제 설명\n",
        "랜덤으로 서로 다른 k개의 수를 저장한 배열을 만드려고 합니다. 적절한 방법이 떠오르지 않기 때문에 일정한 범위 내에서 무작위로 수를 뽑은 후, 지금까지 나온적이 없는 수이면 배열 맨 뒤에 추가하는 방식으로 만들기로 합니다.\n",
        "\n",
        "이미 어떤 수가 무작위로 주어질지 알고 있다고 가정하고, 실제 만들어질 길이 k의 배열을 예상해봅시다.\n",
        "\n",
        "정수 배열 arr가 주어집니다. 문제에서의 무작위의 수는 arr에 저장된 순서대로 주어질 예정이라고 했을 때, 완성될 배열을 return 하는 solution 함수를 완성해 주세요.\n",
        "\n",
        "단, 완성될 배열의 길이가 k보다 작으면 나머지 값을 전부 -1로 채워서 return 합니다."
      ],
      "metadata": {
        "id": "cVkYIZ6z9Kzx"
      }
    },
    {
      "cell_type": "code",
      "source": [
        "# 내가 구현한 잘못된 코드\n",
        "def solution(arr, k):\n",
        "    answer = []\n",
        "    for i in arr:\n",
        "        if i not in answer:\n",
        "            answer.append(i)\n",
        "            if len(answer)>k:\n",
        "                return answer[:k]\n",
        "            elif len(answer)<k:\n",
        "                for i in range(k-len(answer)):\n",
        "                    answer.append(-1)\n",
        "    return answer"
      ],
      "metadata": {
        "id": "kvfltZjp9cAv"
      },
      "execution_count": null,
      "outputs": []
    },
    {
      "cell_type": "code",
      "source": [
        "# 정답 코드\n",
        "\n",
        "def solution(arr, k):\n",
        "    answer = []\n",
        "    for i in arr:\n",
        "        if i not in answer:\n",
        "            answer.append(i)\n",
        "    while len(answer) < k:\n",
        "        answer.append(-1)\n",
        "    return answer[:k]\n"
      ],
      "metadata": {
        "id": "MggeTgQZAFbU"
      },
      "execution_count": null,
      "outputs": []
    }
  ]
}